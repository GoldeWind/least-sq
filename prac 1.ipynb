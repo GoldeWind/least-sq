{
 "cells": [
  {
   "cell_type": "markdown",
   "id": "9ee19e0f",
   "metadata": {},
   "source": [
    "Implementation of Least Square"
   ]
  },
  {
   "cell_type": "code",
   "execution_count": 7,
   "id": "4afa3831",
   "metadata": {},
   "outputs": [],
   "source": [
    "import numpy as np\n",
    "from scipy.optimize import leastsq"
   ]
  },
  {
   "cell_type": "code",
   "execution_count": 8,
   "id": "d5972d93",
   "metadata": {},
   "outputs": [],
   "source": [
    "x = np.array([22,44,21,56,77])\n",
    "y = np.array([56,88,90,33,32])"
   ]
  },
  {
   "cell_type": "code",
   "execution_count": 9,
   "id": "3f41c03f",
   "metadata": {},
   "outputs": [],
   "source": [
    "def linear_model(params, x):\n",
    "    m, c = params\n",
    "    return m * x + c"
   ]
  },
  {
   "cell_type": "code",
   "execution_count": 10,
   "id": "3b53b5cd",
   "metadata": {},
   "outputs": [],
   "source": [
    "def residuals(params,y,x):\n",
    "    return y - linear_model(params, x)"
   ]
  },
  {
   "cell_type": "code",
   "execution_count": 11,
   "id": "82880123",
   "metadata": {},
   "outputs": [],
   "source": [
    "initial_params = [1,1]\n",
    "result = leastsq(residuals, initial_params, args=(y,x))\n",
    "m_opt, c_opt = result[0]"
   ]
  },
  {
   "cell_type": "code",
   "execution_count": 12,
   "id": "7930dec0",
   "metadata": {},
   "outputs": [
    {
     "name": "stdout",
     "output_type": "stream",
     "text": [
      "Optimized slope (m): -0.8236865538775313\n",
      "Optimized intercept (c): 96.04220837064368\n"
     ]
    }
   ],
   "source": [
    "print(f\"Optimized slope (m): {m_opt}\")\n",
    "print(f\"Optimized intercept (c): {c_opt}\")"
   ]
  },
  {
   "cell_type": "code",
   "execution_count": null,
   "id": "c953c272",
   "metadata": {},
   "outputs": [],
   "source": []
  },
  {
   "cell_type": "code",
   "execution_count": 1,
   "id": "3dd18a4e",
   "metadata": {},
   "outputs": [],
   "source": [
    "import numpy as np\n",
    "from scipy.optimize import leastsq\n",
    "#sample data\n",
    "x = np.array([22,24,76,31,98])\n",
    "y = np.array([45,35,76,11,67])"
   ]
  },
  {
   "cell_type": "code",
   "execution_count": 3,
   "id": "0aa5d65a",
   "metadata": {},
   "outputs": [],
   "source": [
    "#define the model function\n",
    "def linear_model(params, x):\n",
    "    m,c = params\n",
    "    return m*x+c"
   ]
  },
  {
   "cell_type": "code",
   "execution_count": 4,
   "id": "8510de6a",
   "metadata": {},
   "outputs": [],
   "source": [
    "#define the residual model function\n",
    "def residuals(params,y,x):\n",
    "    return y - linear_model(params, x)"
   ]
  },
  {
   "cell_type": "code",
   "execution_count": 5,
   "id": "2ae0068b",
   "metadata": {},
   "outputs": [],
   "source": [
    "#initial guess for the parameters\n",
    "initial_params = [1,1]\n",
    "#perform the latest squares optimization\n",
    "result = leastsq(residuals, initial_params, args = (y,x))\n",
    "#exrtract the optimized parameters\n",
    "m_opt, c_opt = result[0]\n"
   ]
  },
  {
   "cell_type": "code",
   "execution_count": 6,
   "id": "00293d89",
   "metadata": {},
   "outputs": [
    {
     "name": "stdout",
     "output_type": "stream",
     "text": [
      "Optimized slope (m): 0.5761956340600655\n",
      "Optimized intercept (c): 17.874979170175123\n"
     ]
    }
   ],
   "source": [
    "print(f\"Optimized slope (m): {m_opt}\")\n",
    "print(f\"Optimized intercept (c): {c_opt}\")"
   ]
  },
  {
   "cell_type": "code",
   "execution_count": null,
   "id": "0c3477ad",
   "metadata": {},
   "outputs": [],
   "source": []
  }
 ],
 "metadata": {
  "kernelspec": {
   "display_name": "Python 3",
   "language": "python",
   "name": "python3"
  },
  "language_info": {
   "codemirror_mode": {
    "name": "ipython",
    "version": 3
   },
   "file_extension": ".py",
   "mimetype": "text/x-python",
   "name": "python",
   "nbconvert_exporter": "python",
   "pygments_lexer": "ipython3",
   "version": "3.8.8"
  }
 },
 "nbformat": 4,
 "nbformat_minor": 5
}
